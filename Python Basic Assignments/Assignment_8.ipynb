{
 "cells": [
  {
   "cell_type": "markdown",
   "id": "20871e72",
   "metadata": {},
   "source": [
    "#### 1. Is the Python Standard Library included with PyInputPlus?\n",
    "\n",
    "Ans - PyInputPlus is not included in Python Standard Library, we have to download it externally\n",
    "\n",
    "#### 2. Why is PyInputPlus commonly imported with import pyinputplus as pyip?\n",
    "\n",
    "Ans - pyip is used as an alias name of pyinputplus when (import pyinputplus as pyip) is given so that you can type pypi.inputStr() instead of pyinputplus.inputStr().\n",
    "\n",
    "#### 3. How do you distinguish between inputInt() and inputFloat()?\n",
    "\n",
    "Ans - The inputInt() function returns an int value, while the inputFloat() function returns a float value. This is the difference between returning a real value like 7 and decimal value like 7.0.\n",
    "\n",
    "#### 4. Using PyInputPlus, how do you ensure that the user enters a whole number between 0 and 99?\n",
    "\n",
    "Ans - By calling pyip.inputint(min=0, max=99) function.\n",
    "\n",
    "#### 5. What is transferred to the keyword arguments allowRegexes and blockRegexes?\n",
    "\n",
    "Ans - A list of regex strings that are either explicitly allowed or denied.\n",
    "\n",
    "#### 6. If a blank input is entered three times, what does inputStr(limit=3) do?\n",
    "\n",
    "Ans - A list of regex strings that are either explicitly allowed or denied.\n",
    "\n",
    "#### 7. If blank input is entered three times, what does inputStr(limit=3, default='hello') do?\n",
    "Ans - The function returns the default value 'hello'."
   ]
  },
  {
   "cell_type": "code",
   "execution_count": null,
   "id": "a9e5e681",
   "metadata": {},
   "outputs": [],
   "source": []
  }
 ],
 "metadata": {
  "kernelspec": {
   "display_name": "Python 3",
   "language": "python",
   "name": "python3"
  },
  "language_info": {
   "codemirror_mode": {
    "name": "ipython",
    "version": 3
   },
   "file_extension": ".py",
   "mimetype": "text/x-python",
   "name": "python",
   "nbconvert_exporter": "python",
   "pygments_lexer": "ipython3",
   "version": "3.8.8"
  }
 },
 "nbformat": 4,
 "nbformat_minor": 5
}

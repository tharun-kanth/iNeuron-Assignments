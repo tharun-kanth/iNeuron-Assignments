{
 "cells": [
  {
   "cell_type": "markdown",
   "id": "33c364a1",
   "metadata": {},
   "source": [
    "#### 1. What does an empty dictionary's code look like?\n",
    "\n",
    "Ans - \n",
    "An empty dictionary is often represented by two empty curly brackets\n",
    "d = {}\n"
   ]
  },
  {
   "cell_type": "markdown",
   "id": "3d6a5b27",
   "metadata": {},
   "source": [
    "#### 2. What is the value of a dictionary value with the key 'foo' and the value 42?\n",
    "\n",
    "Ans - {foo:42}"
   ]
  },
  {
   "cell_type": "markdown",
   "id": "97bc606f",
   "metadata": {},
   "source": [
    "#### 3. What is the most significant distinction between a dictionary and a list?\n",
    "\n",
    "Ans - Other than representation dictionary - {} and list - [], dictionary stores data in key-value pair format while list only stores the values\n",
    "\n",
    "Another difference is dictionary is unordered data type while list is an ordered data type"
   ]
  },
  {
   "cell_type": "markdown",
   "id": "4566f6c0",
   "metadata": {},
   "source": [
    "#### 4. What happens if you try to access spam['foo'] if spam is {'bar': 100}?\n",
    "\n",
    "Ans - As foo key is not present in span we will get an error"
   ]
  },
  {
   "cell_type": "code",
   "execution_count": 1,
   "id": "cc3cfc6f",
   "metadata": {},
   "outputs": [
    {
     "ename": "KeyError",
     "evalue": "'foo'",
     "output_type": "error",
     "traceback": [
      "\u001b[1;31m---------------------------------------------------------------------------\u001b[0m",
      "\u001b[1;31mKeyError\u001b[0m                                  Traceback (most recent call last)",
      "\u001b[1;32m<ipython-input-1-cea1cd791e68>\u001b[0m in \u001b[0;36m<module>\u001b[1;34m\u001b[0m\n\u001b[0;32m      1\u001b[0m \u001b[0mspam\u001b[0m \u001b[1;33m=\u001b[0m \u001b[1;33m{\u001b[0m\u001b[1;34m'bar'\u001b[0m\u001b[1;33m:\u001b[0m\u001b[1;36m100\u001b[0m\u001b[1;33m}\u001b[0m\u001b[1;33m\u001b[0m\u001b[1;33m\u001b[0m\u001b[0m\n\u001b[1;32m----> 2\u001b[1;33m \u001b[0mspam\u001b[0m\u001b[1;33m[\u001b[0m\u001b[1;34m'foo'\u001b[0m\u001b[1;33m]\u001b[0m\u001b[1;33m\u001b[0m\u001b[1;33m\u001b[0m\u001b[0m\n\u001b[0m",
      "\u001b[1;31mKeyError\u001b[0m: 'foo'"
     ]
    }
   ],
   "source": [
    "spam = {'bar':100}\n",
    "spam['foo']"
   ]
  },
  {
   "cell_type": "markdown",
   "id": "067fc91d",
   "metadata": {},
   "source": [
    "#### 5. If a dictionary is stored in spam, what is the difference between the expressions 'cat' in spam and 'cat' in spam.keys()?\n",
    "\n",
    "Ans - The operator checks whether a value exits as a key in the dictionary or not, so there is no difference . \n",
    " "
   ]
  },
  {
   "cell_type": "markdown",
   "id": "4ee5f8de",
   "metadata": {},
   "source": [
    "#### 6. If a dictionary is stored in spam, what is the difference between the expressions 'cat' in spam and 'cat' in spam.values()?\n",
    "\n",
    "Ans - 'cat' in spam checks whether there is a 'cat' key in the dictionary, while 'cat' in spam.values() checks whether there is a value 'cat' for one of the keys in spam."
   ]
  },
  {
   "cell_type": "markdown",
   "id": "c51bc7d7",
   "metadata": {},
   "source": [
    "#### 7. What is a shortcut for the following code?\n",
    "#### if 'color' not in spam:\n",
    "#### spam['color'] = 'black'\n",
    "\n",
    "Ans - spam.setdefault('color','black')"
   ]
  },
  {
   "cell_type": "markdown",
   "id": "a479c5e5",
   "metadata": {},
   "source": [
    "#### 8. How do you \"pretty print\" dictionary values using which module and function?\n",
    "\n",
    "Ans -  we can pretty print a dictionary using three functions\n",
    "by using pprint() function of pprint module\n",
    "Note: pprint() function doesnot prettify nested dictionaries\n",
    "by using dumps() method of json module\n",
    "by using dumps() method of yaml module"
   ]
  }
 ],
 "metadata": {
  "kernelspec": {
   "display_name": "Python 3",
   "language": "python",
   "name": "python3"
  },
  "language_info": {
   "codemirror_mode": {
    "name": "ipython",
    "version": 3
   },
   "file_extension": ".py",
   "mimetype": "text/x-python",
   "name": "python",
   "nbconvert_exporter": "python",
   "pygments_lexer": "ipython3",
   "version": "3.8.8"
  }
 },
 "nbformat": 4,
 "nbformat_minor": 5
}

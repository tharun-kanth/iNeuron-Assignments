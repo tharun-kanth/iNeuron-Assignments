{
 "cells": [
  {
   "cell_type": "markdown",
   "id": "14531e78",
   "metadata": {},
   "source": [
    "#### 1. Create an assert statement that throws an AssertionError if the variable spam is a negative integer.\n",
    "\n",
    "Ans - assert spam >0\n",
    "\n",
    "#### 2. Write an assert statement that triggers an AssertionError if the variables eggs and bacon contain strings that are the same as each other, even if their cases are different (that is, 'hello' and 'hello' are considered the same, and 'goodbye' and 'GOODbye' are also considered the same).\n",
    "\n",
    "Ans - Either assert eggs.lower() != bacon.lower() 'The eggs and bacon variables are the same!' or assert eggs.upper() != bacon.upper(), 'The eggs and bacon variables are the same!'\n",
    "\n",
    "#### 3. Create an assert statement that throws an AssertionError every time.\n",
    "\n",
    "Ans - assert False, 'This assertion always triggers.'\n",
    "\n",
    "#### 4. What are the two lines that must be present in your software in order to call logging.debug()?\n",
    "\n",
    "Ans - To be able to call logging.debug(), you must have these two lines at the start of your program:\n",
    "\n",
    "import logging logging.basicConfig(level=logging.DEBUG, format=' %(asctime)s - %(levelname)s - %(message)s')\n",
    "\n",
    "#### 5. What are the two lines that your program must have in order to have logging.debug() send a logging message to a file named programLog.txt?\n",
    "\n",
    "Ans - To be able to send logging messages to a file named programLog.txt with logging.debug(), you must have these two lines at the start of your program:\n",
    "\n",
    "import logging\n",
    "\n",
    "logging.basicConfig(filename='programLog.txt', level=logging.DEBUG, format=' %(asctime)s - %(levelname)s - %(message)s')\n",
    "\n",
    "#### 6. What are the five levels of logging?\n",
    "\n",
    "Ans - DEBUG, INFO, WARNING, ERROR, and CRITICAL\n",
    "\n",
    "#### 7. What line of code would you add to your software to disable all logging messages?\n",
    "\n",
    "Ans - logging.disable(logging.CRITICAL)\n",
    "\n",
    "#### 8.Why is using logging messages better than using print() to display the same message?\n",
    "\n",
    "Ans - You can disable logging messages without removing the logging function calls. You can selectively disable lower-level logging messages. You can create logging messages. Logging messages provides a timestamp.\n",
    "\n",
    "#### 9. What are the differences between the Step Over, Step In, and Step Out buttons in the debugger?\n",
    "\n",
    "Ans - The Step In button will move the debugger into a function call. The Step Over button will quickly execute the function call without stepping into it. The Step Out button will quickly execute the rest of the code until it steps out of the function it currently is in.\n",
    "\n",
    "#### 10.After you click Continue, when will the debugger stop ?\n",
    "\n",
    "Ans - After you click Continue, the debugger will stop when it has reached the end of the program or a line with a breakpoint.\n",
    "\n",
    "#### 11. What is the concept of a breakpoint?\n",
    "\n",
    "Ans - A breakpoint is a setting on a line of code that causes the debugger to pause when the program execution reaches the line."
   ]
  },
  {
   "cell_type": "code",
   "execution_count": null,
   "id": "e87ad86e",
   "metadata": {},
   "outputs": [],
   "source": []
  }
 ],
 "metadata": {
  "kernelspec": {
   "display_name": "Python 3",
   "language": "python",
   "name": "python3"
  },
  "language_info": {
   "codemirror_mode": {
    "name": "ipython",
    "version": 3
   },
   "file_extension": ".py",
   "mimetype": "text/x-python",
   "name": "python",
   "nbconvert_exporter": "python",
   "pygments_lexer": "ipython3",
   "version": "3.8.8"
  }
 },
 "nbformat": 4,
 "nbformat_minor": 5
}

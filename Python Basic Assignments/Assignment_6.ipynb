{
 "cells": [
  {
   "cell_type": "markdown",
   "id": "2f53a3b5",
   "metadata": {},
   "source": [
    "#### 1. What are escape characters, and how do you use them?\n",
    "\n",
    "Ans - Escape charecters in a string are used with the backslash character to escape a single character or symbol by using  backslash \\ followed by the character you want to insert.\n",
    "\n",
    "example: \\t, \\n\n",
    "\n",
    "This charecters are used because sometimes few strings are difficult or impossible to type into the code\n",
    "\n",
    "#### 2. What do the escape characters n and t stand for?\n",
    "\n",
    "Ans -\n",
    "\n",
    "\\n --> newline\n",
    "\n",
    "\\t --> Tab space(Generally 5 normal spaces but can be modified)\n",
    "\n",
    "#### 3. What is the way to include backslash characters in a string?\n",
    "\n",
    "Ans - The \\\\ escape character will represent the backslash character in a string\n",
    "\n",
    "#### 4. The string \"Howl's Moving Castle\" is a correct value. Why isn't the single quote character in the word Howl's not escaped a problem?\n",
    "\n",
    "Ans -  As in this case double quotes aer being used instead of single quotes and the string is wrapped inside double qoutes Howl's word escaped the problem\n",
    "\n",
    "To use single qoutes we can use an escape charecter follwed by ' (single qoute)"
   ]
  },
  {
   "cell_type": "code",
   "execution_count": 20,
   "id": "6a8a390c",
   "metadata": {},
   "outputs": [
    {
     "data": {
      "text/plain": [
       "\"Howl's Moving Castle\""
      ]
     },
     "execution_count": 20,
     "metadata": {},
     "output_type": "execute_result"
    }
   ],
   "source": [
    "'Howl\\'s Moving Castle'"
   ]
  },
  {
   "cell_type": "markdown",
   "id": "a7ad644a",
   "metadata": {},
   "source": [
    "\n",
    "#### 5. How do you write a string of newlines if you don't want to use the n character?\n",
    "\n",
    "Ans - \n",
    "\n"
   ]
  },
  {
   "cell_type": "code",
   "execution_count": 21,
   "id": "fba30337",
   "metadata": {},
   "outputs": [
    {
     "name": "stdout",
     "output_type": "stream",
     "text": [
      "\n",
      "This is a sample program,\n",
      "for writing the code in multiple lines\n",
      "without using escape character\n",
      "\n",
      "\n"
     ]
    }
   ],
   "source": [
    "example = '''\n",
    "This is a sample program,\n",
    "for writing the code in multiple lines\n",
    "without using escape character\n",
    "\n",
    "'''\n",
    "print(example)"
   ]
  },
  {
   "cell_type": "markdown",
   "id": "34897c8e",
   "metadata": {},
   "source": [
    "\n",
    "#### 6. What are the values of the given expressions?\n",
    "'Hello, world!'[1]\n",
    "'Hello, world!'[0:5]\n",
    "'Hello, world!'[:5]\n",
    "'Hello, world!'[3:]\n",
    "\n",
    "\n",
    "Ans - \n",
    "\n",
    "'Hello, world!'[1]    ---> 'e'            --- value at index 1\n",
    "\n",
    "'Hello, world!'[0:5]  ---> 'Hello'        --- values from index 0 to 4\n",
    "\n",
    "'Hello, world!'[:5]   ---> 'Hello'        --- values from index 0 to 4 (Index starts with 0 if not specified)\n",
    "\n",
    "'Hello, world!'[3:]   ---> 'lo, world!'   --- values from index 3 to end (Index ends at length-1 position if not specified)\n",
    "\n"
   ]
  },
  {
   "cell_type": "code",
   "execution_count": 22,
   "id": "2440da5e",
   "metadata": {},
   "outputs": [
    {
     "name": "stdout",
     "output_type": "stream",
     "text": [
      "e\n",
      "Hello\n",
      "Hello\n",
      "lo, world!\n"
     ]
    }
   ],
   "source": [
    "print('Hello, world!'[1],\n",
    "'Hello, world!'[0:5],\n",
    "'Hello, world!'[:5],\n",
    "'Hello, world!'[3:]\n",
    ", sep = \"\\n\")\n"
   ]
  },
  {
   "cell_type": "markdown",
   "id": "aaa456fb",
   "metadata": {},
   "source": [
    "#### 7. What are the values of the following expressions?\n",
    "'Hello'.upper()\n",
    "'Hello'.upper().isupper()\n",
    "'Hello'.upper().lower()\n",
    "\n",
    "Ans - \n",
    "\n",
    "'Hello'.upper()                  ---> Converts the string to Upper case\n",
    "\n",
    "'Hello'.upper().isupper()        ---> Check wether the string is in Upper case and returns boolean value\n",
    "\n",
    "'Hello'.upper().lower()          ---> Converts the string to Upper case then to lower case"
   ]
  },
  {
   "cell_type": "code",
   "execution_count": 23,
   "id": "2ae30757",
   "metadata": {},
   "outputs": [
    {
     "name": "stdout",
     "output_type": "stream",
     "text": [
      "HELLO\n",
      "True\n",
      "hello\n"
     ]
    }
   ],
   "source": [
    "print('Hello'.upper(),\n",
    "'Hello'.upper().isupper(),\n",
    "'Hello'.upper().lower(),\n",
    "sep = \"\\n\")"
   ]
  },
  {
   "cell_type": "markdown",
   "id": "87a7f087",
   "metadata": {},
   "source": [
    "#### 8. What are the values of the following expressions?\n",
    "'Remember, remember, the fifth of July.'.split()\n",
    "'-'.join('There can only one.'.split())\n",
    "\n",
    "Ans - 'Remember, remember, the fifith of July.'.split() ---> ['Remember,', 'remember,', 'the', 'fifith', 'of', 'July.']\n",
    "\n",
    "'-'.join('There can only one'.split()) ---> 'There-can-only-one'\n",
    "\n",
    "#### 9. What are the methods for right-justifying, left-justifying, and centering a string?\n",
    "\n",
    "Ans - rjust(),ljust(),center()  are the string methods for right-justifying, left-justifying, and centering a string\n",
    "\n",
    "\n",
    "#### 10. What is the best way to remove whitespace characters from the start or end?\n",
    "\n",
    "Ans -  The lstrip() and rstrip() methods are used to remove whitespace characters from the left and right ends of a string "
   ]
  },
  {
   "cell_type": "code",
   "execution_count": null,
   "id": "8f369fa6",
   "metadata": {},
   "outputs": [],
   "source": []
  }
 ],
 "metadata": {
  "kernelspec": {
   "display_name": "Python 3",
   "language": "python",
   "name": "python3"
  },
  "language_info": {
   "codemirror_mode": {
    "name": "ipython",
    "version": 3
   },
   "file_extension": ".py",
   "mimetype": "text/x-python",
   "name": "python",
   "nbconvert_exporter": "python",
   "pygments_lexer": "ipython3",
   "version": "3.8.8"
  }
 },
 "nbformat": 4,
 "nbformat_minor": 5
}

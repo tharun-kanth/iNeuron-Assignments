{
 "cells": [
  {
   "cell_type": "raw",
   "id": "414b23b6",
   "metadata": {},
   "source": [
    "1. In the below elements which of them are values or an expression? eg:- values can be integer or string and expressions will be mathematical operators.\n",
    "* \n",
    "'hello'\n",
    "-87.8\n",
    "- \n",
    "/ \n",
    "+\n",
    "6 \n",
    "\n",
    "\n",
    "Ans - \n",
    "\n",
    "* is a multiplication operator\n",
    "'hello' is a string \n",
    "-87.8 is a float data type\n",
    "- is a subtraction operator\n",
    "/ is a division operator\n",
    "+ is an addition operator\n",
    "6 is an integer"
   ]
  },
  {
   "cell_type": "raw",
   "id": "110648eb",
   "metadata": {},
   "source": [
    "2. What is the difference between string and variable?\n",
    "\n",
    "Ans - \n",
    "\n",
    "A variable is something which points to the memory location of the data,\n",
    "    Let's say x = 10, then the variable x actually points to the data(10) where it is hold in the memory\n",
    "A string is something that is in text format, by default python strings are in utf8 format\n",
    "\n"
   ]
  },
  {
   "cell_type": "raw",
   "id": "95f77657",
   "metadata": {},
   "source": [
    "3. Describe three different data types.\n",
    "\n",
    "Ans - \n",
    "\n",
    "In python we have many data types, so discribing about 3 main data types\n",
    "\n",
    "Text Type:\tstr\n",
    "Numeric Types:\tint, float, complex\n",
    "Sequence Types:\tlist, tuple, range\n",
    "\n",
    "--> The str(String) data types holds text format\n",
    "--> int holds integer values  while float holds decimal kind of values\n",
    "--> complex data type contains real and imaginary values\n",
    "-->list & tuple can hold multiple values with different data types but list is mutable while tuples are immutable\n",
    "-->range returns the values within a particular range provided\n",
    "    \n",
    "    "
   ]
  },
  {
   "cell_type": "raw",
   "id": "6b3de1c4",
   "metadata": {},
   "source": [
    "4. What is an expression made up of? What do all expressions do?\n",
    "\n",
    "Ans - \n",
    "\n",
    "An expression is something which contains atleast two variables/numbers with atleast one operator(mathematical)"
   ]
  },
  {
   "cell_type": "raw",
   "id": "0374fa5e",
   "metadata": {},
   "source": [
    "5. This assignment statements, like spam = 10. What is the difference between an expression and a statement?\n",
    "\n",
    "An expression can be evaluated and deducted to a particular value while a statement is like an instruction to the computer to complete a task"
   ]
  },
  {
   "cell_type": "raw",
   "id": "fae2d3ea",
   "metadata": {},
   "source": [
    "6. After running the following code, what does the variable bacon contain?\n",
    "bacon = 22\n",
    "bacon + 1\n",
    "\n",
    "Ans - \n",
    "\n",
    "After running the code bacon variable contain the value 22\n",
    "because it is not assigned to the same variable again i.e., \n",
    "if the expression was like --> bacon = bacon +1 , then the value would be 23"
   ]
  },
  {
   "cell_type": "code",
   "execution_count": 3,
   "id": "a4d63854",
   "metadata": {},
   "outputs": [
    {
     "data": {
      "text/plain": [
       "23"
      ]
     },
     "execution_count": 3,
     "metadata": {},
     "output_type": "execute_result"
    }
   ],
   "source": [
    "bacon = 22\n",
    "bacon + 1\n"
   ]
  },
  {
   "cell_type": "code",
   "execution_count": 4,
   "id": "e7573eda",
   "metadata": {},
   "outputs": [
    {
     "data": {
      "text/plain": [
       "22"
      ]
     },
     "execution_count": 4,
     "metadata": {},
     "output_type": "execute_result"
    }
   ],
   "source": [
    "bacon"
   ]
  },
  {
   "cell_type": "raw",
   "id": "cd1ba353",
   "metadata": {},
   "source": [
    "7. What should the values of the following two terms be?\n",
    "'spam' + 'spamspam'\n",
    "'spam' * 3\n",
    "\n",
    "Ans - \n",
    "When mathematical operator is used with strings it will act as a append operator"
   ]
  },
  {
   "cell_type": "code",
   "execution_count": 8,
   "id": "1b7eb072",
   "metadata": {},
   "outputs": [
    {
     "data": {
      "text/plain": [
       "'spamspamspam'"
      ]
     },
     "execution_count": 8,
     "metadata": {},
     "output_type": "execute_result"
    }
   ],
   "source": [
    "'spam' + 'spamspam'"
   ]
  },
  {
   "cell_type": "code",
   "execution_count": 9,
   "id": "61e8052a",
   "metadata": {},
   "outputs": [
    {
     "data": {
      "text/plain": [
       "'spamspamspam'"
      ]
     },
     "execution_count": 9,
     "metadata": {},
     "output_type": "execute_result"
    }
   ],
   "source": [
    "'spam' * 3"
   ]
  },
  {
   "cell_type": "raw",
   "id": "75e75036",
   "metadata": {},
   "source": [
    "8. Why is eggs a valid variable name while 100 is invalid?\n",
    "\n",
    "Ans - \n",
    "\n",
    "Any variable name that starts with a number is invalid in python, because the python parser will not allow this operation\n",
    "as it will be diffcult for the parser to differentiate numbers with variables"
   ]
  },
  {
   "cell_type": "raw",
   "id": "b52356f2",
   "metadata": {},
   "source": [
    "9. What three functions can be used to get the integer, floating-point number, or string version of a value?\n",
    "\n",
    "Ans - \n",
    "\n",
    "Integer - int()\n",
    "Floating - point number - float()\n",
    "String - str()"
   ]
  },
  {
   "cell_type": "code",
   "execution_count": 10,
   "id": "372c2cf4",
   "metadata": {},
   "outputs": [
    {
     "name": "stdout",
     "output_type": "stream",
     "text": [
      "Object `it` not found.\n"
     ]
    },
    {
     "ename": "TypeError",
     "evalue": "can only concatenate str (not \"int\") to str",
     "output_type": "error",
     "traceback": [
      "\u001b[1;31m---------------------------------------------------------------------------\u001b[0m",
      "\u001b[1;31mTypeError\u001b[0m                                 Traceback (most recent call last)",
      "\u001b[1;32m<ipython-input-10-7972db6c376d>\u001b[0m in \u001b[0;36m<module>\u001b[1;34m\u001b[0m\n\u001b[0;32m      1\u001b[0m \u001b[0mget_ipython\u001b[0m\u001b[1;33m(\u001b[0m\u001b[1;33m)\u001b[0m\u001b[1;33m.\u001b[0m\u001b[0mrun_line_magic\u001b[0m\u001b[1;33m(\u001b[0m\u001b[1;34m'pinfo'\u001b[0m\u001b[1;33m,\u001b[0m \u001b[1;34m'it'\u001b[0m\u001b[1;33m)\u001b[0m\u001b[1;33m\u001b[0m\u001b[1;33m\u001b[0m\u001b[0m\n\u001b[1;32m----> 2\u001b[1;33m \u001b[1;34m'I have eaten '\u001b[0m \u001b[1;33m+\u001b[0m \u001b[1;36m99\u001b[0m \u001b[1;33m+\u001b[0m \u001b[1;34m' burritos.'\u001b[0m\u001b[1;33m\u001b[0m\u001b[1;33m\u001b[0m\u001b[0m\n\u001b[0m",
      "\u001b[1;31mTypeError\u001b[0m: can only concatenate str (not \"int\") to str"
     ]
    }
   ],
   "source": [
    "10. Why does this expression cause an error? How can you fix it?\n",
    "'I have eaten ' + 99 + ' burritos.'"
   ]
  },
  {
   "cell_type": "code",
   "execution_count": null,
   "id": "b5c8de27",
   "metadata": {},
   "outputs": [],
   "source": [
    "Ans - \n",
    "\n",
    "This is happening because of TypeError\n",
    "As we know that + operator when used with strings behaves as append operator and when used with numbers acts as addition\n",
    "operator. But now as we are using both string and number the interpreter is unable to evaluate the expression as it gets\n",
    "confused\n",
    "\n",
    "\n",
    "So this issue can be solved by many ways, few of them are\n",
    "\n",
    "1. By type casting '99' to string using str function\n",
    "-------------> 'I have eaten ' + str(99) + ' burritos.'\n",
    "\n",
    "2. By using f-strings\n",
    "-------------> print(f'I have eaten  {99}  burritos.')\n",
    "\n",
    "3. By using print only\n",
    "-------------> print('I have eaten ',99,' burritos.')\n",
    "\n",
    "etc..."
   ]
  },
  {
   "cell_type": "code",
   "execution_count": 14,
   "id": "669c57e3",
   "metadata": {},
   "outputs": [
    {
     "data": {
      "text/plain": [
       "'I have eaten 99 burritos.'"
      ]
     },
     "execution_count": 14,
     "metadata": {},
     "output_type": "execute_result"
    }
   ],
   "source": [
    "'I have eaten ' + str(99) + ' burritos.'"
   ]
  },
  {
   "cell_type": "code",
   "execution_count": 12,
   "id": "6720975b",
   "metadata": {},
   "outputs": [
    {
     "name": "stdout",
     "output_type": "stream",
     "text": [
      "I have eaten  99  burritos.\n"
     ]
    }
   ],
   "source": [
    "print(f'I have eaten  {99}  burritos.')"
   ]
  },
  {
   "cell_type": "code",
   "execution_count": 13,
   "id": "c20124a5",
   "metadata": {},
   "outputs": [
    {
     "name": "stdout",
     "output_type": "stream",
     "text": [
      "I have eaten  99  burritos.\n"
     ]
    }
   ],
   "source": [
    "print('I have eaten ',99,' burritos.')"
   ]
  },
  {
   "cell_type": "code",
   "execution_count": null,
   "id": "55e237df",
   "metadata": {},
   "outputs": [],
   "source": []
  }
 ],
 "metadata": {
  "kernelspec": {
   "display_name": "Python 3",
   "language": "python",
   "name": "python3"
  },
  "language_info": {
   "codemirror_mode": {
    "name": "ipython",
    "version": 3
   },
   "file_extension": ".py",
   "mimetype": "text/x-python",
   "name": "python",
   "nbconvert_exporter": "python",
   "pygments_lexer": "ipython3",
   "version": "3.8.8"
  }
 },
 "nbformat": 4,
 "nbformat_minor": 5
}

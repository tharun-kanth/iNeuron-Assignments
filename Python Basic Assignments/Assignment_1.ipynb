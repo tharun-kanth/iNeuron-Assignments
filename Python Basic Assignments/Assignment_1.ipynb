{
 "cells": [
  {
   "cell_type": "markdown",
   "id": "2f804397",
   "metadata": {},
   "source": [
    "1. In the below elements which of them are values or an expression? eg:- values can be integer or string and expressions will be mathematical operators.\n",
    "* \n",
    "'hello'\n",
    "-87.8\n",
    "- \n",
    "/ \n",
    "+\n",
    "6 \n",
    "\n",
    "\n",
    "Ans - \n",
    "\n",
    "* is a multiplication operator\n",
    "'hello' is a string \n",
    "-87.8 is a float data type\n",
    "- is a subtraction operator\n",
    "/ is a division operator\n",
    "+ is an addition operator\n",
    "6 is an integer"
   ]
  },
  {
   "cell_type": "markdown",
   "id": "e3f54fdb",
   "metadata": {},
   "source": [
    "2. What is the difference between string and variable?\n",
    "\n",
    "Ans - \n",
    "\n",
    "A variable is something which points to the memory location of the data,\n",
    "    Let's say x = 10, then the variable x actually points to the data(10) where it is hold in the memory\n",
    "A string is something that is in text format, by default python strings are in utf8 format\n",
    "\n"
   ]
  },
  {
   "cell_type": "markdown",
   "id": "2d6ebe84",
   "metadata": {},
   "source": [
    "3. Describe three different data types.\n",
    "\n",
    "Ans - \n",
    "\n",
    "In python we have many data types, so discribing about 3 main data types\n",
    "\n",
    "Text Type:\tstr\n",
    "Numeric Types:\tint, float, complex\n",
    "Sequence Types:\tlist, tuple, range\n",
    "\n",
    "--> The str(String) data types holds text format\n",
    "--> int holds integer values  while float holds decimal kind of values\n",
    "--> complex data type contains real and imaginary values\n",
    "-->list & tuple can hold multiple values with different data types but list is mutable while tuples are immutable\n",
    "-->range returns the values within a particular range provided\n",
    "    \n",
    "    "
   ]
  },
  {
   "cell_type": "markdown",
   "id": "c87af790",
   "metadata": {},
   "source": [
    "4. What is an expression made up of? What do all expressions do?\n",
    "\n",
    "Ans - \n",
    "\n",
    "An expression is something which contains atleast two variables/numbers with atleast one operator(mathematical)"
   ]
  },
  {
   "cell_type": "markdown",
   "id": "e04125ec",
   "metadata": {},
   "source": [
    "5. This assignment statements, like spam = 10. What is the difference between an expression and a statement?\n",
    "\n",
    "An expression can be evaluated and deducted to a particular value while a statement is like an instruction to the computer to complete a task"
   ]
  },
  {
   "cell_type": "markdown",
   "id": "dbb7645d",
   "metadata": {},
   "source": [
    "6. After running the following code, what does the variable bacon contain?\n",
    "bacon = 22\n",
    "bacon + 1\n",
    "\n",
    "Ans - \n",
    "\n",
    "After running the code bacon variable contain the value 22\n",
    "because it is not assigned to the same variable again i.e., \n",
    "if the expression was like --> bacon = bacon +1 , then the value would be 23"
   ]
  },
  {
   "cell_type": "code",
   "execution_count": 8,
   "id": "1a914376",
   "metadata": {},
   "outputs": [
    {
     "data": {
      "text/plain": [
       "23"
      ]
     },
     "execution_count": 8,
     "metadata": {},
     "output_type": "execute_result"
    }
   ],
   "source": [
    "bacon = 22\n",
    "bacon + 1\n"
   ]
  },
  {
   "cell_type": "code",
   "execution_count": 9,
   "id": "4ead0026",
   "metadata": {},
   "outputs": [
    {
     "data": {
      "text/plain": [
       "22"
      ]
     },
     "execution_count": 9,
     "metadata": {},
     "output_type": "execute_result"
    }
   ],
   "source": [
    "bacon"
   ]
  },
  {
   "cell_type": "markdown",
   "id": "46aaffb3",
   "metadata": {},
   "source": [
    "7. What should the values of the following two terms be?\n",
    "'spam' + 'spamspam'\n",
    "'spam' * 3\n",
    "\n",
    "Ans - \n",
    "When mathematical operator is used with strings it will act as a append operator"
   ]
  },
  {
   "cell_type": "code",
   "execution_count": 10,
   "id": "bf76b042",
   "metadata": {},
   "outputs": [
    {
     "data": {
      "text/plain": [
       "'spamspamspam'"
      ]
     },
     "execution_count": 10,
     "metadata": {},
     "output_type": "execute_result"
    }
   ],
   "source": [
    "'spam' + 'spamspam'"
   ]
  },
  {
   "cell_type": "code",
   "execution_count": 11,
   "id": "d921341d",
   "metadata": {},
   "outputs": [
    {
     "data": {
      "text/plain": [
       "'spamspamspam'"
      ]
     },
     "execution_count": 11,
     "metadata": {},
     "output_type": "execute_result"
    }
   ],
   "source": [
    "'spam' * 3"
   ]
  },
  {
   "cell_type": "markdown",
   "id": "a859c284",
   "metadata": {},
   "source": [
    "8. Why is eggs a valid variable name while 100 is invalid?\n",
    "\n",
    "Ans - \n",
    "\n",
    "Any variable name that starts with a number is invalid in python, because the python parser will not allow this operation\n",
    "as it will be diffcult for the parser to differentiate numbers with variables"
   ]
  },
  {
   "cell_type": "markdown",
   "id": "ef6b5c8c",
   "metadata": {},
   "source": [
    "9. What three functions can be used to get the integer, floating-point number, or string version of a value?\n",
    "\n",
    "Ans - \n",
    "\n",
    "Integer - int()\n",
    "Floating - point number - float()\n",
    "String - str()"
   ]
  },
  {
   "cell_type": "markdown",
   "id": "1d604756",
   "metadata": {},
   "source": [
    "10. Why does this expression cause an error? How can you fix it?\n",
    "'I have eaten ' + 99 + ' burritos.'"
   ]
  },
  {
   "cell_type": "markdown",
   "id": "74709d35",
   "metadata": {},
   "source": [
    "Ans - \n",
    "\n",
    "This is happening because of TypeError\n",
    "As we know that + operator when used with strings behaves as append operator and when used with numbers acts as addition\n",
    "operator. But now as we are using both string and number the interpreter is unable to evaluate the expression as it gets\n",
    "confused\n",
    "\n",
    "\n",
    "So this issue can be solved by many ways, few of them are\n",
    "\n",
    "1. By type casting '99' to string using str function\n",
    "-------------> 'I have eaten ' + str(99) + ' burritos.'\n",
    "\n",
    "2. By using f-strings\n",
    "-------------> print(f'I have eaten  {99}  burritos.')\n",
    "\n",
    "3. By using print only\n",
    "-------------> print('I have eaten ',99,' burritos.')\n",
    "\n",
    "etc..."
   ]
  },
  {
   "cell_type": "code",
   "execution_count": 12,
   "id": "d0d89ff0",
   "metadata": {},
   "outputs": [
    {
     "data": {
      "text/plain": [
       "'I have eaten 99 burritos.'"
      ]
     },
     "execution_count": 12,
     "metadata": {},
     "output_type": "execute_result"
    }
   ],
   "source": [
    "'I have eaten ' + str(99) + ' burritos.'"
   ]
  },
  {
   "cell_type": "code",
   "execution_count": 13,
   "id": "89537fbd",
   "metadata": {},
   "outputs": [
    {
     "name": "stdout",
     "output_type": "stream",
     "text": [
      "I have eaten  99  burritos.\n"
     ]
    }
   ],
   "source": [
    "print(f'I have eaten  {99}  burritos.')"
   ]
  },
  {
   "cell_type": "code",
   "execution_count": 14,
   "id": "27716557",
   "metadata": {},
   "outputs": [
    {
     "name": "stdout",
     "output_type": "stream",
     "text": [
      "I have eaten  99  burritos.\n"
     ]
    }
   ],
   "source": [
    "print('I have eaten ',99,' burritos.')"
   ]
  },
  {
   "cell_type": "markdown",
   "id": "242910e4",
   "metadata": {},
   "source": []
  }
 ],
 "metadata": {
  "kernelspec": {
   "display_name": "Python 3",
   "language": "python",
   "name": "python3"
  },
  "language_info": {
   "codemirror_mode": {
    "name": "ipython",
    "version": 3
   },
   "file_extension": ".py",
   "mimetype": "text/x-python",
   "name": "python",
   "nbconvert_exporter": "python",
   "pygments_lexer": "ipython3",
   "version": "3.8.8"
  }
 },
 "nbformat": 4,
 "nbformat_minor": 5
}

{
 "cells": [
  {
   "cell_type": "markdown",
   "id": "f86e1bb4",
   "metadata": {},
   "source": [
    "1.What are the two values of the Boolean data type? How do you write them?\n",
    "\n",
    "Ans - \n",
    "\n",
    "Bool/boolean means a binary data type which contains only 0's and 1's.\n",
    "\n",
    "In Python bool, 1 represents True and 0 represents False"
   ]
  },
  {
   "cell_type": "markdown",
   "id": "6ef852f0",
   "metadata": {},
   "source": [
    "2. What are the three different types of Boolean operators?\n",
    "\n",
    "Three types of boolean operators in Python\n",
    "\n",
    "and <--> ||  (logical AND)\n",
    "or <--> &&   (logical OR)\n",
    "not <--> !   (logical NOT)"
   ]
  },
  {
   "cell_type": "markdown",
   "id": "3df2c536",
   "metadata": {},
   "source": [
    "3. Make a list of each Boolean operator's truth tables (i.e. every possible combination of Boolean values for the operator and what it evaluate ).\n",
    "\n",
    "Logical AND operator with two inputs A&B\n",
    "\n",
    "    A       B        Output\n",
    "    0       0           0\n",
    "    0       1           0\n",
    "    1       1           0\n",
    "    1       1           1\n",
    "\n",
    "Conclusion - AND operator is TRUE only when all the input values are TRUE\n",
    "\n",
    "Logical OR operator with two inputs A&B\n",
    "\n",
    "    A       B        Output\n",
    "    0       0           0\n",
    "    0       1           1\n",
    "    1       1           1\n",
    "    1       1           1\n",
    "    \n",
    "Conclusion - OR operator is TRUE even when one of the input value is TRUE\n",
    "\n",
    "NOT operator returns the opposite value of input\n",
    "\n",
    "If input = 1 -----NOT-------- output = 0\n",
    "If input = 0 -----NOT-------- output = 1"
   ]
  },
  {
   "cell_type": "markdown",
   "id": "3e76b986",
   "metadata": {},
   "source": [
    "4. What are the values of the following expressions?"
   ]
  },
  {
   "cell_type": "code",
   "execution_count": 1,
   "id": "a3da3523",
   "metadata": {},
   "outputs": [
    {
     "name": "stdout",
     "output_type": "stream",
     "text": [
      "False\n",
      "False\n",
      "True\n",
      "False\n",
      "False\n",
      "True\n"
     ]
    }
   ],
   "source": [
    "print((5 > 4) and (3 == 5)\n",
    ",not (5 > 4)\n",
    ",(5 > 4) or (3 == 5)\n",
    ",not ((5 > 4) or (3 == 5))\n",
    ",(True and True) and (True == False)\n",
    ",(not False) or (not True),sep='\\n')"
   ]
  },
  {
   "cell_type": "markdown",
   "id": "991ec34d",
   "metadata": {},
   "source": [
    "5. What are the six comparison operators?\n",
    "Ans - \n",
    "\n",
    "Equal to (==)\n",
    "Not equal to (!= or <>)\n",
    "Greater than (>)\n",
    "Less than (<)\n",
    "Grethaer than or equal to (>=)\n",
    "Less than oe equal to (<=)"
   ]
  },
  {
   "cell_type": "markdown",
   "id": "74cbca54",
   "metadata": {},
   "source": [
    "6. How do you tell the difference between the equal to and assignment operators?Describe a condition and when you would use one.\n",
    "\n",
    "Ans - \n",
    "\n",
    "Equal to when used once is an assignment operator when used twice is a comparision operator"
   ]
  },
  {
   "cell_type": "code",
   "execution_count": 2,
   "id": "1b00b5bf",
   "metadata": {},
   "outputs": [],
   "source": [
    "a = 10 # Assigment operator used when we want to assign a value to the variable"
   ]
  },
  {
   "cell_type": "code",
   "execution_count": 3,
   "id": "b132d5ed",
   "metadata": {},
   "outputs": [
    {
     "data": {
      "text/plain": [
       "True"
      ]
     },
     "execution_count": 3,
     "metadata": {},
     "output_type": "execute_result"
    }
   ],
   "source": [
    "a == 10 # Comparision operator used when we want to compare the value assigned to the variable is true or not"
   ]
  },
  {
   "cell_type": "markdown",
   "id": "55d4b6db",
   "metadata": {},
   "source": [
    "7. Identify the three blocks in this code:\n",
    "spam = 0\n",
    "if spam == 10:\n",
    "print('eggs')\n",
    "if spam > 5:\n",
    "print('bacon')\n",
    "else:\n",
    "print('ham')\n",
    "print('spam')\n",
    "print('spam')"
   ]
  },
  {
   "cell_type": "code",
   "execution_count": 4,
   "id": "051476f7",
   "metadata": {},
   "outputs": [
    {
     "name": "stdout",
     "output_type": "stream",
     "text": [
      "ham\n",
      "spam\n",
      "spam\n"
     ]
    }
   ],
   "source": [
    "\n",
    "spam = 0\n",
    "if spam == 10:\n",
    "    print('eggs')\n",
    "if spam > 5:\n",
    "    print('bacon')\n",
    "else:\n",
    "    print('ham')\n",
    "    print('spam')\n",
    "    print('spam')"
   ]
  },
  {
   "cell_type": "markdown",
   "id": "07c7b399",
   "metadata": {},
   "source": [
    "8. Write code that prints Hello if 1 is stored in spam, prints Howdy if 2 is stored in spam, and prints Greetings! if anything else is stored in spam."
   ]
  },
  {
   "cell_type": "code",
   "execution_count": 5,
   "id": "bdd1f204",
   "metadata": {},
   "outputs": [
    {
     "name": "stdout",
     "output_type": "stream",
     "text": [
      "2\n",
      "Howdy\n"
     ]
    }
   ],
   "source": [
    "spam = int(input())\n",
    "if spam == 1:\n",
    "    print(\"Hello\")\n",
    "elif spam == 2:\n",
    "    print(\"Howdy\")\n",
    "else:\n",
    "    print(\"Greetings!\")"
   ]
  },
  {
   "cell_type": "markdown",
   "id": "bfd4673b",
   "metadata": {},
   "source": [
    "9.If your programme is stuck in an endless loop, what keys you’ll press?\n",
    "\n",
    "Ans - Ctrl + C in some IDEs(Jupyter,Pycharm) while Ctrl + Z works in few other"
   ]
  },
  {
   "cell_type": "markdown",
   "id": "284e6ea2",
   "metadata": {},
   "source": [
    "10. How can you tell the difference between break and continue?\n",
    "\n",
    "Ans  - \n",
    "\n",
    "Continue - Will only skipone iteration of the loop while rest is executed\n",
    "\n",
    "Break - Break skips all the loop iteration i.e., breaks the looop"
   ]
  },
  {
   "cell_type": "markdown",
   "id": "5088dc4b",
   "metadata": {},
   "source": [
    "11. In a for loop, what is the difference between range(10), range(0, 10), and range(0, 10, 1)?\n",
    "\n",
    "Ans - \n",
    "\n",
    "All are same, \n",
    "If we don't specify other arguments like starting index it starts with 0 by default and if we don't specify steps it will take 1 by default"
   ]
  },
  {
   "cell_type": "markdown",
   "id": "52a9b0a4",
   "metadata": {},
   "source": [
    "12. Write a short program that prints the numbers 1 to 10 using a for loop. Then write an equivalent program that prints the numbers 1 to 10 using a while loop."
   ]
  },
  {
   "cell_type": "code",
   "execution_count": 6,
   "id": "95714531",
   "metadata": {},
   "outputs": [
    {
     "name": "stdout",
     "output_type": "stream",
     "text": [
      "1 2 3 4 5 6 7 8 9 10 "
     ]
    }
   ],
   "source": [
    "for i in range(1,11):\n",
    "    print(i,end=\" \")"
   ]
  },
  {
   "cell_type": "code",
   "execution_count": 7,
   "id": "a63729db",
   "metadata": {},
   "outputs": [
    {
     "name": "stdout",
     "output_type": "stream",
     "text": [
      "1 2 3 4 5 6 7 8 9 10 "
     ]
    }
   ],
   "source": [
    "i = 1\n",
    "while(i<=10):\n",
    "    print(i,end=\" \")\n",
    "    i=i+1"
   ]
  },
  {
   "cell_type": "markdown",
   "id": "4c78db5e",
   "metadata": {},
   "source": [
    "13. If you had a function named bacon() inside a module named spam, how would you call it after importing spam?\n",
    "\n",
    "Ans - \n",
    "spam.bacon()"
   ]
  }
 ],
 "metadata": {
  "kernelspec": {
   "display_name": "Python 3",
   "language": "python",
   "name": "python3"
  },
  "language_info": {
   "codemirror_mode": {
    "name": "ipython",
    "version": 3
   },
   "file_extension": ".py",
   "mimetype": "text/x-python",
   "name": "python",
   "nbconvert_exporter": "python",
   "pygments_lexer": "ipython3",
   "version": "3.8.8"
  }
 },
 "nbformat": 4,
 "nbformat_minor": 5
}

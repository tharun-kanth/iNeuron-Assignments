{
 "cells": [
  {
   "cell_type": "raw",
   "id": "64a1b513",
   "metadata": {},
   "source": [
    "1. Why are functions advantageous to have in your programs?\n",
    "\n",
    "Ans - \n",
    "\n",
    "Once functions are written they can be called any number of times, it means we can use the same code numerous times."
   ]
  },
  {
   "cell_type": "raw",
   "id": "691364cc",
   "metadata": {},
   "source": [
    "2. When does the code in a function run: when it's specified or when it's called?\n",
    "    \n",
    "Ans - \n",
    "A code in the function only run when it is called"
   ]
  },
  {
   "cell_type": "raw",
   "id": "9036a3c5",
   "metadata": {},
   "source": [
    "3. What statement creates a function?\n",
    "\n",
    "Ans - \n",
    "\n",
    "def keyword is used to create a function\n",
    "\n",
    "Ex  - def function_name(parameter):\n",
    "         return something                    # paramters/return are optional "
   ]
  },
  {
   "cell_type": "raw",
   "id": "a6977484",
   "metadata": {},
   "source": [
    "4. What is the difference between a function and a function call?\n",
    "\n",
    "Ans - \n",
    "\n",
    "Functions is a piece of code which is written once and kept in the program but function call is something which is used to execute that piece of written code"
   ]
  },
  {
   "cell_type": "raw",
   "id": "0755ca8e",
   "metadata": {},
   "source": [
    "5. How many global scopes are there in a Python program? How many local scopes?\n",
    "\n",
    "Ans - \n",
    "Global scopes means outside the function, or which are declared in main body\n",
    "while local scope means created inside a particular functions"
   ]
  },
  {
   "cell_type": "raw",
   "id": "8dce20c6",
   "metadata": {},
   "source": [
    "6. What happens to variables in a local scope when the function call returns?\n",
    "\n",
    "Ans - \n",
    "When a function call is returned the local scope variables are flushed out of memory\n"
   ]
  },
  {
   "cell_type": "raw",
   "id": "dea9671a",
   "metadata": {},
   "source": [
    "7. What is the concept of a return value? Is it possible to have a return value in an expression?\n",
    "\n",
    "Ans - \n",
    "When a function is called, the functions might return a value, based on inputs.\n",
    "\n",
    "Yes a functions can also return the value in type of expression"
   ]
  },
  {
   "cell_type": "raw",
   "id": "54252100",
   "metadata": {},
   "source": [
    "8. If a function does not have a return statement, what is the return value of a call to that function?"
   ]
  },
  {
   "cell_type": "code",
   "execution_count": 12,
   "id": "9e30a4c2",
   "metadata": {},
   "outputs": [],
   "source": [
    "def sample_function():\n",
    "    a= 10\n",
    "    "
   ]
  },
  {
   "cell_type": "code",
   "execution_count": 13,
   "id": "5af796c1",
   "metadata": {},
   "outputs": [
    {
     "data": {
      "text/plain": [
       "<function __main__.sample_function()>"
      ]
     },
     "execution_count": 13,
     "metadata": {},
     "output_type": "execute_result"
    }
   ],
   "source": [
    "sample_function"
   ]
  },
  {
   "cell_type": "raw",
   "id": "596785ec",
   "metadata": {},
   "source": [
    "9. How do you make a function variable refer to the global variable?\n",
    "Ans - \n",
    "We can direclty assign/refer global variable to function variable as global variable can be accessed any where"
   ]
  },
  {
   "cell_type": "raw",
   "id": "dc5e1e08",
   "metadata": {},
   "source": [
    "10. What is the data type of None?\n",
    "Ans - None datatype means basically it holds nothing"
   ]
  },
  {
   "cell_type": "code",
   "execution_count": 20,
   "id": "1bb4e251",
   "metadata": {},
   "outputs": [
    {
     "data": {
      "text/plain": [
       "NoneType"
      ]
     },
     "execution_count": 20,
     "metadata": {},
     "output_type": "execute_result"
    }
   ],
   "source": [
    "a = None\n",
    "type(a)"
   ]
  },
  {
   "cell_type": "raw",
   "id": "611817bf",
   "metadata": {},
   "source": [
    "11. What does the sentence import areallyourpetsnamederic do?\n",
    "\n",
    "Ans -\n",
    "\n",
    "Import bascially imports all the functions, instances present in module"
   ]
  },
  {
   "cell_type": "raw",
   "id": "8cc9e790",
   "metadata": {},
   "source": [
    "12. If you had a bacon() feature in a spam module, what would you call it after importing spam?\n",
    "\n",
    "Ans -  This function can be called with spam.bacon().\n"
   ]
  },
  {
   "cell_type": "raw",
   "id": "4d28922d",
   "metadata": {},
   "source": [
    "13. What can you do to save a programme from crashing if it encounters an error?\n",
    "\n",
    "Ans -  Use try clause while writing the suspicious code in this block itself and use except block to handle the error.\n",
    "\n"
   ]
  },
  {
   "cell_type": "raw",
   "id": "759628fe",
   "metadata": {},
   "source": [
    "14. What is the purpose of the try clause? What is the purpose of the except clause?\n",
    "\n",
    "Ans - Try clause bascially tries to catch an error while executing the code in the block, if it finds any error it will search for the nearest except block which maches the exception and then expect block will continue to handle the exception based on the code we provide"
   ]
  },
  {
   "cell_type": "raw",
   "id": "4d4ba1c2",
   "metadata": {},
   "source": []
  }
 ],
 "metadata": {
  "kernelspec": {
   "display_name": "Python 3",
   "language": "python",
   "name": "python3"
  },
  "language_info": {
   "codemirror_mode": {
    "name": "ipython",
    "version": 3
   },
   "file_extension": ".py",
   "mimetype": "text/x-python",
   "name": "python",
   "nbconvert_exporter": "python",
   "pygments_lexer": "ipython3",
   "version": "3.8.8"
  }
 },
 "nbformat": 4,
 "nbformat_minor": 5
}

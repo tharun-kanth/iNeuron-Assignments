{
 "cells": [
  {
   "cell_type": "markdown",
   "id": "38369adc",
   "metadata": {},
   "source": [
    "1. What exactly is []?\n",
    "Ans - [] represent an empty list in python\n"
   ]
  },
  {
   "cell_type": "markdown",
   "id": "848a2f49",
   "metadata": {},
   "source": [
    "2. In a list of values stored in a variable called spam, how would you assign the value 'hello' as the third value? (Assume [2, 4, 6, 8, 10] are in spam.)\n",
    "Let's pretend the spam includes the list ['a', 'b', 'c', 'd'] for the next three queries.\n",
    "\n",
    "Ans - spam[2] = 'hello' --- As index value starts from 0, third element index is 2"
   ]
  },
  {
   "cell_type": "code",
   "execution_count": 24,
   "id": "775cbaf9",
   "metadata": {},
   "outputs": [
    {
     "data": {
      "text/plain": [
       "['a', 'b', 'hello', 'd']"
      ]
     },
     "execution_count": 24,
     "metadata": {},
     "output_type": "execute_result"
    }
   ],
   "source": [
    "spam = ['a','b','c','d']\n",
    "spam[2] = 'hello'\n",
    "spam"
   ]
  },
  {
   "cell_type": "markdown",
   "id": "8b6c549e",
   "metadata": {},
   "source": [
    "3. What is the value of spam[int(int('3' * 2) / 11)]?\n",
    "\n",
    "Ans - For string * operator behaves differently so here 3 is appended twice including original so value = '33' and int('33') is 33 which is divded by 11 so the index is 3, and spam[3] = 'd'"
   ]
  },
  {
   "cell_type": "code",
   "execution_count": 25,
   "id": "c62f5d1f",
   "metadata": {},
   "outputs": [
    {
     "data": {
      "text/plain": [
       "'d'"
      ]
     },
     "execution_count": 25,
     "metadata": {},
     "output_type": "execute_result"
    }
   ],
   "source": [
    "spam[int(int('3' * 2) / 11)]"
   ]
  },
  {
   "cell_type": "markdown",
   "id": "ba49aa8f",
   "metadata": {},
   "source": [
    "4. What is the value of spam[-1]?\n",
    "\n",
    "Ans - spam[-1] returns the value in reverse order i.e., returns the value of size of list-1\n"
   ]
  },
  {
   "cell_type": "code",
   "execution_count": 26,
   "id": "75b15bb0",
   "metadata": {},
   "outputs": [
    {
     "data": {
      "text/plain": [
       "'d'"
      ]
     },
     "execution_count": 26,
     "metadata": {},
     "output_type": "execute_result"
    }
   ],
   "source": [
    "spam[-1]"
   ]
  },
  {
   "cell_type": "markdown",
   "id": "2efa08eb",
   "metadata": {},
   "source": [
    "5. What is the value of spam[:2]?\n",
    "\n",
    "Ans - Here starting position is not mentioned so index starts from 0 and end at 2 (excludes index 2)"
   ]
  },
  {
   "cell_type": "code",
   "execution_count": 27,
   "id": "179eb620",
   "metadata": {},
   "outputs": [
    {
     "data": {
      "text/plain": [
       "['a', 'b']"
      ]
     },
     "execution_count": 27,
     "metadata": {},
     "output_type": "execute_result"
    }
   ],
   "source": [
    "spam[:2]"
   ]
  },
  {
   "cell_type": "markdown",
   "id": "b6bffaee",
   "metadata": {},
   "source": [
    "Let's pretend bacon has the list [3.14, 'cat', 11, 'cat,' True] for the next three questions.\n",
    "6. What is the value of bacon.index('cat')?\n",
    "\n",
    "Ans - .index function returns the index of first occurence of a value so answer is 1\n"
   ]
  },
  {
   "cell_type": "code",
   "execution_count": 28,
   "id": "a94b7f0a",
   "metadata": {},
   "outputs": [
    {
     "data": {
      "text/plain": [
       "1"
      ]
     },
     "execution_count": 28,
     "metadata": {},
     "output_type": "execute_result"
    }
   ],
   "source": [
    "bacon = [3.14, 'cat', 11, 'cat', True]\n",
    "bacon.index('cat')"
   ]
  },
  {
   "cell_type": "markdown",
   "id": "50004f9d",
   "metadata": {},
   "source": [
    "7. How does \n",
    "bacon.append(99) change the look of the list value in bacon?\n",
    "\n",
    "Ans - Append will append the value to last of the list"
   ]
  },
  {
   "cell_type": "code",
   "execution_count": 29,
   "id": "61b65de9",
   "metadata": {},
   "outputs": [
    {
     "data": {
      "text/plain": [
       "[3.14, 'cat', 11, 'cat', True, 99]"
      ]
     },
     "execution_count": 29,
     "metadata": {},
     "output_type": "execute_result"
    }
   ],
   "source": [
    "bacon.append(99)\n",
    "bacon"
   ]
  },
  {
   "cell_type": "markdown",
   "id": "9d225e44",
   "metadata": {},
   "source": [
    "8. How does bacon.remove('cat') change the look of the list in bacon?\n",
    "\n",
    "Ans - Removes the first occurence of the value 'cat'"
   ]
  },
  {
   "cell_type": "code",
   "execution_count": 30,
   "id": "ac6556cb",
   "metadata": {},
   "outputs": [
    {
     "data": {
      "text/plain": [
       "[3.14, 11, 'cat', True, 99]"
      ]
     },
     "execution_count": 30,
     "metadata": {},
     "output_type": "execute_result"
    }
   ],
   "source": [
    "bacon.remove('cat')\n",
    "bacon"
   ]
  },
  {
   "cell_type": "markdown",
   "id": "54db66aa",
   "metadata": {},
   "source": [
    "9. What are the list concatenation and list replication operators?\n",
    "\n",
    "Ans - The operator for list concatenation is +, while the operator for replication is *."
   ]
  },
  {
   "cell_type": "markdown",
   "id": "004ed270",
   "metadata": {},
   "source": [
    "10. What is difference between the list methods append() and insert()?\n",
    "\n",
    "Ans - While append() will add values only to the end of a list, insert() can add them anywhere in the list."
   ]
  },
  {
   "cell_type": "markdown",
   "id": "c0ab0d9d",
   "metadata": {},
   "source": [
    "11. What are the two methods for removing items from a list?\n",
    "\n",
    "Ans - The del statement and the remove() method are two ways to remove values from a list"
   ]
  },
  {
   "cell_type": "markdown",
   "id": "aee34b9f",
   "metadata": {},
   "source": [
    "12. Describe how list values and string values are identical.\n",
    "\n",
    "Ans - Both lists and strings can be passed to len() function, have indexes and slices, be used in for loops, be concatenated or replicated, and be used with the in and not in operators"
   ]
  },
  {
   "cell_type": "markdown",
   "id": "55bc59aa",
   "metadata": {},
   "source": [
    "13. What's the difference between tuples and lists?\n",
    "\n",
    "Ans - Lists are Mutable, Indexable and Slicable. they can have values added, removed, or changed. Tuples are Immutable but Indexable and Slicable. the tuple values cannot be changed at all. Also, tuples are represented using parentheses, (), while lists use the square brackets, []"
   ]
  },
  {
   "cell_type": "markdown",
   "id": "8e98dc9b",
   "metadata": {},
   "source": [
    "14. How do you type a tuple value that only contains the integer 42?\n",
    "\n",
    "Ans - tuple1 = (42,) #Comma is necessary to make python interoreter understand that the variable is actually a tuple but not integer"
   ]
  },
  {
   "cell_type": "markdown",
   "id": "cab08f7a",
   "metadata": {},
   "source": [
    "15. How do you get a list value's tuple form? How do you get a tuple value's list form?\n",
    "\n",
    "Ans - The tuple() - to convert list to tuple and,\n",
    "list() convert a tuple to list"
   ]
  },
  {
   "cell_type": "markdown",
   "id": "0ef6fb0c",
   "metadata": {},
   "source": [
    "16. Variables that \"contain\" list values are not necessarily lists themselves. Instead, what do they contain?\n",
    "\n",
    "Ans - References to list values"
   ]
  },
  {
   "cell_type": "markdown",
   "id": "1eede2b2",
   "metadata": {},
   "source": [
    "17. How do you distinguish between copy.copy() and copy.deepcopy()?\n",
    "\n",
    "copy.copy() is a shallow copy while copy.deepcopy() is a deep copy as shown in the name itself\n",
    "Whenever a variable is copied as a deep copy, the variable value is independent from the original one. That is if the original value is modified then the copied value is not modified"
   ]
  },
  {
   "cell_type": "code",
   "execution_count": null,
   "id": "4db2a6d5",
   "metadata": {},
   "outputs": [],
   "source": []
  }
 ],
 "metadata": {
  "kernelspec": {
   "display_name": "Python 3",
   "language": "python",
   "name": "python3"
  },
  "language_info": {
   "codemirror_mode": {
    "name": "ipython",
    "version": 3
   },
   "file_extension": ".py",
   "mimetype": "text/x-python",
   "name": "python",
   "nbconvert_exporter": "python",
   "pygments_lexer": "ipython3",
   "version": "3.8.8"
  }
 },
 "nbformat": 4,
 "nbformat_minor": 5
}
